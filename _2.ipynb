{
  "nbformat": 4,
  "nbformat_minor": 0,
  "metadata": {
    "colab": {
      "provenance": [],
      "include_colab_link": true
    },
    "kernelspec": {
      "name": "python3",
      "display_name": "Python 3"
    },
    "language_info": {
      "name": "python"
    }
  },
  "cells": [
    {
      "cell_type": "markdown",
      "metadata": {
        "id": "view-in-github",
        "colab_type": "text"
      },
      "source": [
        "<a href=\"https://colab.research.google.com/github/rustrv/Skilbox_Linux_part4/blob/main/_2.ipynb\" target=\"_parent\"><img src=\"https://colab.research.google.com/assets/colab-badge.svg\" alt=\"Open In Colab\"/></a>"
      ]
    },
    {
      "cell_type": "markdown",
      "source": [
        "# Видео 1"
      ],
      "metadata": {
        "id": "67m25UgLW5sq"
      }
    },
    {
      "cell_type": "markdown",
      "source": [
        "## Задача 1\n",
        "Решить систему линейных алгебраических уравнений как систему уравнений и в матричном виде:\n",
        "\n",
        "$\n",
        "    \\left\\{\\begin{matrix}\n",
        "       3x + 4y -2z - 6d = 3 \\\\\n",
        "       3y -2z +x  + 7d= -2 \\\\\n",
        "       5x - 7z -2y -4d = 5 \\\\\n",
        "       2x + y - 3z - 4d = 6\n",
        "       \\end{matrix}\\right.\n",
        "$"
      ],
      "metadata": {
        "id": "S4RBGvWkXEL2"
      }
    },
    {
      "cell_type": "code",
      "source": [
        "import sympy as sp\n",
        "A = sp.Matrix([[3,4,-2,-6],[1,3,-2,7],[5,-2,-7,-4],[2,1,-3,-4]])\n",
        "b = sp.Matrix([3,-2,5,6])\n",
        "x = sp.Symbol('x')\n",
        "y = sp.Symbol('y')\n",
        "z = sp.Symbol('z')\n",
        "d = sp.Symbol('d')\n",
        "sle = [3*x+4*y-2*z-6*d-3, x+3*y-2*z+7*d+2, 5*x-2*y-7*z-4*d-5, 2*x+y-3*z-4*d-6]\n",
        "res1 = sp.linsolve(sle,[x,y,z,d])\n",
        "print(res1)\n",
        "res2 = sp.linsolve((A,b),[x,y,z,d])\n",
        "print(res2)\n"
      ],
      "metadata": {
        "colab": {
          "base_uri": "https://localhost:8080/"
        },
        "id": "VR0KX_22RdcE",
        "outputId": "35482757-5dc6-414f-d136-b0aae27924b8"
      },
      "execution_count": null,
      "outputs": [
        {
          "output_type": "stream",
          "name": "stdout",
          "text": [
            "{(-169/45, 2/3, -46/15, -41/45)}\n",
            "{(-169/45, 2/3, -46/15, -41/45)}\n"
          ]
        }
      ]
    },
    {
      "cell_type": "markdown",
      "source": [
        "## Задача 2\n",
        "Найти точку с координатой точки $z$, равной 2, лежащую на линии, созданной пересечением двух плоскостей $x+y+3z=6$ и $x-y+z=4$. Найти другую точку, когда $z=0$. Найти третью точку, находящуюся посередине между найденными двумя.\n",
        "\n",
        "Результатом являются объекты класса Matrix."
      ],
      "metadata": {
        "id": "ISltHlc-k3nI"
      }
    },
    {
      "cell_type": "code",
      "source": [
        "import sympy as sp\n",
        "A = sp.Matrix([[1,1,3],[1,-1,1]])\n",
        "b = sp.Matrix([6,4])\n",
        "#print(A.rref()[0])\n",
        "\n",
        "x = sp.Symbol('x')\n",
        "y = sp.Symbol('y')\n",
        "z = sp.Symbol('z')\n",
        "#c=A.nullspace()\n",
        "res = sp.linsolve((A,b),[x,y,z])\n",
        "#print(c)\n",
        "z1 = 2\n",
        "z2 = 0\n",
        "\n",
        "point1 = sp.Matrix(res.subs(z, z1).args[0])\n",
        "point2 = sp.Matrix(res.subs(z, z2).args[0])\n",
        "#point3 = sp.Matrix(res.subs(z, 0).args[0])\n",
        "\n",
        "point3 = (point1 + point2) / 2\n",
        "\n",
        "\n",
        "print(\"Первая точка:\")\n",
        "print(point1)\n",
        "\n",
        "print(\"\\nВторая точка:\")\n",
        "print(point2)\n",
        "\n",
        "print(\"\\nТретья точка (посередине):\")\n",
        "print(point3)\n",
        "#A.rref()[0]"
      ],
      "metadata": {
        "colab": {
          "base_uri": "https://localhost:8080/"
        },
        "id": "l1zsCFeaXpL-",
        "outputId": "09ed057f-eaab-4397-e707-ae8267d4442d"
      },
      "execution_count": null,
      "outputs": [
        {
          "output_type": "stream",
          "name": "stdout",
          "text": [
            "Первая точка:\n",
            "Matrix([[1], [-1], [2]])\n",
            "\n",
            "Вторая точка:\n",
            "Matrix([[5], [1], [0]])\n",
            "\n",
            "Третья точка (посередине):\n",
            "Matrix([[3], [0], [1]])\n"
          ]
        }
      ]
    },
    {
      "cell_type": "markdown",
      "source": [
        "# Видео 2"
      ],
      "metadata": {
        "id": "54Oi8J0_XMsK"
      }
    },
    {
      "cell_type": "markdown",
      "source": [
        "## Задача 1\n",
        "Применить $rref()$ и описать геометрически (линия, плоскость или полное пространство) результат всех линейных комбинаций данных векторов:\n",
        "\n",
        "1) $\\begin{bmatrix}1 \\\\ 2 \\\\3 \\end{bmatrix} \\text{и} \\begin{bmatrix}3 \\\\ 6 \\\\9 \\end{bmatrix}$;\n",
        "\n",
        "2) $\\begin{bmatrix}1 \\\\ 0 \\\\0 \\end{bmatrix}$ и $\\begin{bmatrix}0 \\\\ 2 \\\\3 \\end{bmatrix}$;\n",
        "\n",
        "3) $\\begin{bmatrix}2 \\\\ 0 \\\\0 \\end{bmatrix}$, $\\begin{bmatrix}0 \\\\ 2 \\\\2 \\end{bmatrix}$ и $\\begin{bmatrix}2 \\\\ 2 \\\\3 \\end{bmatrix}$.\n",
        "\n",
        "Подсказка: если не понимаете ответ, используйте графические визуализаторы, к примеру GeoGebra или Desmos.\n"
      ],
      "metadata": {
        "id": "RHmRozE4XOtT"
      }
    },
    {
      "cell_type": "markdown",
      "source": [
        "## Задача 2\n",
        "\n",
        "Найдите обратную матрицу\n",
        "\n",
        "$A = \\begin{bmatrix}2 & 3 & 1\\\\ 4 & 5 & 2 \\\\ 2 & -1 & - 3\\end{bmatrix}$, использовав функцию $inv()$, а также придумайте, как найти её с помощью $rref()$.\n",
        "\n",
        "Сравните результаты.\n",
        "\n"
      ],
      "metadata": {
        "id": "EoHpO-23Gxdl"
      }
    },
    {
      "cell_type": "markdown",
      "source": [
        "# Видео 3\n"
      ],
      "metadata": {
        "id": "mg2HW-2JwOaV"
      }
    },
    {
      "cell_type": "markdown",
      "source": [
        "## Задача 1\n",
        "Для матрицы $A = \\begin{bmatrix}5&5&6&8&9\\\\4&-10&5&1&99\\end{bmatrix}$, а также для $A^T$ найти: \\\\\n",
        "1) ранг матрицы, \\\\\n",
        "2) размерность ядра, \\\\\n",
        "3) базис пространства колонок, \\\\\n",
        "4) базис пространства строк, \\\\\n",
        "5) базис ядра, \\\\\n",
        "6) RREF().\n"
      ],
      "metadata": {
        "id": "FQ8LQKkhw23-"
      }
    },
    {
      "cell_type": "markdown",
      "source": [
        "## Задача 2\n",
        "Построить матрицу с необходимыми свойствами или объяснить, почему это невозможно:\n",
        "\n",
        "1. Пространство колонок состоит из $\\begin{bmatrix}1\\\\1\\\\0\\end{bmatrix},\\ \\begin{bmatrix}0\\\\0\\\\1\\end{bmatrix}$, пространство строчек содержит $\\begin{bmatrix}1\\\\2\\end{bmatrix},\\ \\begin{bmatrix}2\\\\5\\end{bmatrix}$.\n",
        "\n",
        "2. Пространство колонок состоит из $\\begin{bmatrix}1\\\\1\\\\3\\end{bmatrix}$, ядро (nullspace) — $\\begin{bmatrix}3\\\\1\\\\1\\end{bmatrix}$.\n",
        "\n",
        "3. Ядро состоит из $\\begin{bmatrix}1\\\\3\\end{bmatrix}$, пространство колонок — из $\\begin{bmatrix}3\\\\1\\end{bmatrix}$.\n",
        "\n",
        "Подсказка: «содержит» означает, что результат может быть получен из других векторов с помощью линейной комбинации."
      ],
      "metadata": {
        "id": "u74NX-SUPF5G"
      }
    },
    {
      "cell_type": "markdown",
      "source": [
        "# Видео 4"
      ],
      "metadata": {
        "id": "jUAfF30xEDoD"
      }
    },
    {
      "cell_type": "markdown",
      "source": [
        "## Задача 1\n",
        "Решить уравнение: \\\\\n",
        " $\\begin{bmatrix}1&2 & 0 & 0 \\\\2&5 & 0 & 0 \\\\ 0 & 0 & 2 & 0\\end{bmatrix}\\begin{bmatrix}x\\\\y\\\\z\\end{bmatrix}=\\begin{bmatrix}b_1\\\\b_2 \\\\b_3\\end{bmatrix}$.\n",
        "\n",
        "А также найти: \\\\\n",
        "1) ранг матрицы, \\\\\n",
        "2) размерность ядра, \\\\\n",
        "3) базис пространства колонок, \\\\\n",
        "5) базис ядра, \\\\\n",
        "6) RREF(), \\\\\n",
        "7) частное решение, \\\\\n",
        "8) полное решение."
      ],
      "metadata": {
        "id": "d7kpm6WrEFsu"
      }
    },
    {
      "cell_type": "markdown",
      "source": [
        "# Видео 5"
      ],
      "metadata": {
        "id": "oh8AaDdJahJ_"
      }
    },
    {
      "cell_type": "markdown",
      "source": [
        "## Задача 1\n",
        "Спроецируйте вектор $b=\\begin{bmatrix}3\\\\4\\\\4\\end{bmatrix}$ вначале на прямую $a=\\begin{bmatrix}2\\\\2\\\\1\\end{bmatrix}$, а затем на плоскость, содержащую ещё вектор $a^* = \\begin{bmatrix}1\\\\0\\\\0\\end{bmatrix}$. Проверьте, что вектор ошибки перпендикулярен $a$ (*подсказка: скалярное произведение*) и что второй вектор ошибки также перпендикулярен $a^*$.\n",
        "\n",
        "*Для проверки себя используйте GeoGebra или Desmos*."
      ],
      "metadata": {
        "id": "JR1RiECVak_B"
      }
    },
    {
      "cell_type": "markdown",
      "source": [
        "# Видео 6"
      ],
      "metadata": {
        "id": "2WxwAmymPqTm"
      }
    },
    {
      "cell_type": "markdown",
      "source": [
        "## Задача 1\n",
        "Даны точки $(-1,2),\\ (1,0),\\ (-1,0),\\ (2,1),\\ (0,-1),\\ (1,2)$. Решите задачу регрессии с помощью метода наименьших квадратов, используя уравнения прямой и параболы как функции, у которых ищутся переменные.\n",
        "\n",
        "1. Найдите параметры этих кривых.\n",
        "\n",
        "2. Найдите суммарную ошибку и сравните.\n",
        "\n",
        "Подсказка: советуем визуализировать эти кривые и точки.\n"
      ],
      "metadata": {
        "id": "gK9oxb0CTOg7"
      }
    },
    {
      "cell_type": "markdown",
      "source": [
        "# Видео 7"
      ],
      "metadata": {
        "id": "9goJ8qk3kpY0"
      }
    },
    {
      "cell_type": "markdown",
      "source": [
        "## Задача 1\n",
        "Имеется система координат $A$ и координаты вектора $^AP$ относительно $A$. Потом мы трансформировали $^AP$, вначале повернув его вокруг $Z_A$ на угол $\\theta$, а потом вокруг $Y_A$ на угол $\\gamma$. Определите матрицу поворота $R(\\theta, \\gamma)$.\n"
      ],
      "metadata": {
        "id": "H7A9WTqfkq_t"
      }
    },
    {
      "cell_type": "markdown",
      "source": [
        "# Видео 8"
      ],
      "metadata": {
        "id": "0t2rb_qHdUlw"
      }
    },
    {
      "cell_type": "markdown",
      "source": [
        "## Задача 1\n",
        "Найти матрицу смены системы координат для данного робота. Запишите её также в виде последовательности умножений гомогенных матриц в форме чистого поворота и сдвига.\n",
        "\n",
        "Первая и последняя СК указаны на рисунке.\n",
        "\n",
        "\n",
        "Проверьте правильность вашей матрицы на нескольких граничных случаях. Позиция должна быть задана в декартовой системе координат, а ориентация — одним углом."
      ],
      "metadata": {
        "id": "WbYAgtNHdYRa"
      }
    },
    {
      "cell_type": "markdown",
      "source": [
        "![11.png](data:image/png;base64,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)"
      ],
      "metadata": {
        "id": "sJOZC9U-_5kG"
      }
    },
    {
      "cell_type": "markdown",
      "source": [
        "# Видео 9"
      ],
      "metadata": {
        "id": "bMB1JJxWe5GS"
      }
    },
    {
      "cell_type": "markdown",
      "source": [
        "## Задание 1\n",
        "\n",
        "Использовать эту картинку как исходную:\n",
        "\n",
        "![image.png](data:image/png;base64,iVBORw0KGgoAAAANSUhEUgAAAGQAAABkCAIAAAD/gAIDAAAC/UlEQVR4Ae3dUVLDMAwE0H73nL3/FcK0obSJY0dra205LMMMkCqy9LLwAzPclpBv90fEsW4Bh7o/FmGZnssqFdMrXLKEZcrUsjy/+3bv1ju71MVK1k4q2k+uQFip1HqlS2hMhwjLxLQWRcHKxSpUuIQ1W7LKsYoTrhDJEpY13hapIOEanyxh+ccqQrgGJ8seq/+OhUoN9xqZLGGxflp9y1rP8K4blqzv5dHPvRGs/cZgoTppvXU/1zphAZwDsNKY1F0BtnQqFRYA2RurLkS5u4BFPUqFBSh2xcoFpOU6sGtzqbAAwn5YLfEp3wus21YqLMCvE1Y5Gu2vAhs3lAoLwOuB1R4cSwdg6dpSYQFydCxLKLxqgL2rSoUFsHGxvCJj7wOsjpcKCzAjYtnj4FsJbA+WCgsAY2H5hgXtBgAgpcICtChYaBAY9YCBuVRYZqpl8cdixKSuJ8BgKxWWzelV5YxVFwHeXYCEoVRYBqR3iScWLyAtnd+bOnwUFoDohtXy8Nn3Ah7FUmEVebYv+mCxo9Hef7t15VfCAuAcsNofe58OgEqmVFgZmKPLrVh9QuF1ypEAcE1YvbC8HnjPPoBNUtqUrJ5Lep2VCAAX6rG8pu/fB+DZlgpr61H8qhKrfxx8TyyaZF8UVpYmfaEGy/chj+qWWpxeEdYp0acAxhoVBMa5HwbbZ8KyOb2qMCzG4x3bE6BCf8k6djHG6SwsxqwRetq9gG/DCIsxZvDHYkwZp6fRy5qsOIsxJvHEYswXrafFy5SsaIsx5vHBYkwWs+ep13myYi7GmKoVizFT5J5lr5NkRV6MMVs9FmOa+D0LXqVkxV+MMWENFmOOWXrmvLLJmmUxxpwYFmOCuXoeeh0na67FGNNasRhnz9gz9TpI1oyLMWY+x2KcOm/Pndc+WfMuxpi8hMU4b/ae316bZM2+GGP+YyzGSdfo+ef1SdY1FmNsscdinHGlnqvXb7KutBhjlw8Wo/v1ei7r3zpcbzHGRk8sRt+r9hTW/p8EFp70D66RoJxmwdN0AAAAAElFTkSuQmCC)\n",
        "\n",
        "Применяя аффинные преобразования к ней, а также склейку ($np.hstack(),\\ np.vstack()$), получить следующий результат:\n",
        "\n",
        "![image.png](data:image/png;base64,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)\n",
        "\n",
        "Подсказка: попробуйте использовать различные типы преобразования (отражение, поворот и так далее)."
      ],
      "metadata": {
        "id": "5xzK_cc5e4VU"
      }
    }
  ]
}